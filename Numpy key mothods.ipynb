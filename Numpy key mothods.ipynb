{
 "cells": [
  {
   "cell_type": "markdown",
   "id": "33a238ca",
   "metadata": {},
   "source": [
    "### Numpy Library"
   ]
  },
  {
   "cell_type": "code",
   "execution_count": 1,
   "id": "e7788ad8",
   "metadata": {},
   "outputs": [],
   "source": [
    "#Q1: What is Numpy? \n",
    "\n",
    "#A1: Numpy is a powerful numerical computing library in Python that provides support for arrays, matrices, and many mathematical\n",
    "#    functions to operate on them."
   ]
  },
  {
   "cell_type": "code",
   "execution_count": 2,
   "id": "c13e96a1",
   "metadata": {},
   "outputs": [
    {
     "name": "stdout",
     "output_type": "stream",
     "text": [
      "[1 2 3 4 5]\n"
     ]
    }
   ],
   "source": [
    "#Q2: How do you create a Numpy array?\n",
    "\n",
    "import numpy as np\n",
    "arr = np.array([1, 2, 3, 4, 5])\n",
    "print(arr)\n"
   ]
  },
  {
   "cell_type": "code",
   "execution_count": 3,
   "id": "74995bc9",
   "metadata": {},
   "outputs": [
    {
     "name": "stdout",
     "output_type": "stream",
     "text": [
      "[0. 0. 0. 0. 0.]\n",
      "[1. 1. 1. 1. 1.]\n"
     ]
    }
   ],
   "source": [
    "#Q3: How do you create an array of zeros or ones?\n",
    "\n",
    "zeros_arr = np.zeros(5)\n",
    "ones_arr = np.ones(5)\n",
    "print(zeros_arr)\n",
    "print(ones_arr)\n"
   ]
  },
  {
   "cell_type": "code",
   "execution_count": 4,
   "id": "baaced9c",
   "metadata": {},
   "outputs": [
    {
     "name": "stdout",
     "output_type": "stream",
     "text": [
      "[5 7 9]\n",
      "[-3 -3 -3]\n",
      "[ 4 10 18]\n",
      "[0.25 0.4  0.5 ]\n"
     ]
    }
   ],
   "source": [
    "#Q4: How do you perform element-wise addition, subtraction, multiplication, and division with Numpy arrays?\n",
    "\n",
    "a = np.array([1, 2, 3])\n",
    "b = np.array([4, 5, 6])\n",
    "print(a + b)\n",
    "print(a - b)\n",
    "print(a * b)\n",
    "print(a / b)\n"
   ]
  },
  {
   "cell_type": "code",
   "execution_count": 5,
   "id": "e3a0c431",
   "metadata": {},
   "outputs": [
    {
     "name": "stdout",
     "output_type": "stream",
     "text": [
      "3.0\n",
      "3.0\n",
      "1.4142135623730951\n"
     ]
    }
   ],
   "source": [
    "#Q5: How do you find the mean, median, and standard deviation of an array? \n",
    "\n",
    "data = np.array([1, 2, 3, 4, 5])\n",
    "print(np.mean(data))\n",
    "print(np.median(data))\n",
    "print(np.std(data))\n"
   ]
  },
  {
   "cell_type": "code",
   "execution_count": 6,
   "id": "3d7c3565",
   "metadata": {},
   "outputs": [
    {
     "name": "stdout",
     "output_type": "stream",
     "text": [
      "[[1 2 3]\n",
      " [4 5 6]]\n"
     ]
    }
   ],
   "source": [
    "#Q6: How do you reshape a Numpy array? \n",
    "\n",
    "arr = np.array([1, 2, 3, 4, 5, 6])\n",
    "reshaped_arr = arr.reshape((2, 3))\n",
    "print(reshaped_arr)\n"
   ]
  },
  {
   "cell_type": "code",
   "execution_count": 7,
   "id": "e3fc1ec3",
   "metadata": {},
   "outputs": [
    {
     "name": "stdout",
     "output_type": "stream",
     "text": [
      "[0 2 4 6 8]\n"
     ]
    }
   ],
   "source": [
    "#Q7: How do you create an array with a range of values?\n",
    "\n",
    "arr = np.arange(0, 10, 2)\n",
    "print(arr)\n"
   ]
  },
  {
   "cell_type": "code",
   "execution_count": 8,
   "id": "294aae94",
   "metadata": {},
   "outputs": [
    {
     "name": "stdout",
     "output_type": "stream",
     "text": [
      "5\n",
      "1\n"
     ]
    }
   ],
   "source": [
    "#Q8: How do you find the maximum and minimum values in an array?\n",
    "\n",
    "arr = np.array([1, 2, 3, 4, 5])\n",
    "print(np.max(arr))\n",
    "print(np.min(arr))\n"
   ]
  },
  {
   "cell_type": "code",
   "execution_count": 9,
   "id": "a63a86cf",
   "metadata": {},
   "outputs": [],
   "source": [
    "#Q9: How do you transpose a Numpy array?\n",
    "\n",
    "arr = np.array([[1, 2, 3], [4, 5, 6]])\n",
    "transposed_arr = arr.transpose()\n",
    "print(transposed_arr)\n"
   ]
  },
  {
   "cell_type": "code",
   "execution_count": 10,
   "id": "9adb2f60",
   "metadata": {},
   "outputs": [
    {
     "name": "stdout",
     "output_type": "stream",
     "text": [
      "[1 2 3 4 5 6]\n"
     ]
    }
   ],
   "source": [
    "#Q10: How do you concatenate two arrays? \n",
    "\n",
    "arr1 = np.array([1, 2, 3])\n",
    "arr2 = np.array([4, 5, 6])\n",
    "concatenated_arr = np.concatenate((arr1, arr2))\n",
    "print(concatenated_arr)\n"
   ]
  },
  {
   "cell_type": "code",
   "execution_count": 11,
   "id": "e045eb78",
   "metadata": {},
   "outputs": [
    {
     "name": "stdout",
     "output_type": "stream",
     "text": [
      "[[1 2 3]\n",
      " [4 5 6]\n",
      " [7 8 9]]\n"
     ]
    }
   ],
   "source": [
    "#Q11: How do you create a 2D array (matrix)?\n",
    "\n",
    "matrix = np.array([[1, 2, 3], [4, 5, 6], [7, 8, 9]])\n",
    "print(matrix)\n"
   ]
  },
  {
   "cell_type": "code",
   "execution_count": 12,
   "id": "e6438134",
   "metadata": {},
   "outputs": [
    {
     "name": "stdout",
     "output_type": "stream",
     "text": [
      "[1 2 3 4 5 6 7 8 9]\n"
     ]
    }
   ],
   "source": [
    "#Q12: How do you flatten a 2D array to a 1D array?\n",
    "\n",
    "matrix = np.array([[1, 2, 3], [4, 5, 6], [7, 8, 9]])\n",
    "flattened = matrix.flatten()\n",
    "print(flattened)\n"
   ]
  },
  {
   "cell_type": "code",
   "execution_count": 13,
   "id": "e1e1e568",
   "metadata": {},
   "outputs": [
    {
     "name": "stdout",
     "output_type": "stream",
     "text": [
      "[[0.25170728 0.08028988 0.64896042]\n",
      " [0.52376919 0.28343437 0.4355923 ]\n",
      " [0.98617817 0.82984725 0.49247886]]\n"
     ]
    }
   ],
   "source": [
    "#Q13: How do you generate random numbers with Numpy?\n",
    "\n",
    "random_arr = np.random.random((3, 3))\n",
    "print(random_arr)\n"
   ]
  },
  {
   "cell_type": "code",
   "execution_count": 14,
   "id": "82707cec",
   "metadata": {},
   "outputs": [
    {
     "name": "stdout",
     "output_type": "stream",
     "text": [
      "[1 2 3 4 5]\n"
     ]
    }
   ],
   "source": [
    "#Q14: How do you save and load a Numpy array to/from a file?\n",
    "\n",
    "arr = np.array([1, 2, 3, 4, 5])\n",
    "np.save('my_array.npy', arr)\n",
    "loaded_arr = np.load('my_array.npy')\n",
    "print(loaded_arr)\n"
   ]
  },
  {
   "cell_type": "code",
   "execution_count": 15,
   "id": "424a1d71",
   "metadata": {},
   "outputs": [
    {
     "name": "stdout",
     "output_type": "stream",
     "text": [
      "[1 2 3 4 5]\n"
     ]
    }
   ],
   "source": [
    "#Q15: How do you find the unique elements in an array?\n",
    "\n",
    "arr = np.array([1, 2, 2, 3, 4, 4, 5])\n",
    "unique_arr = np.unique(arr)\n",
    "print(unique_arr)\n"
   ]
  },
  {
   "cell_type": "code",
   "execution_count": 16,
   "id": "dc560ff2",
   "metadata": {},
   "outputs": [
    {
     "name": "stdout",
     "output_type": "stream",
     "text": [
      "[[19 22]\n",
      " [43 50]]\n"
     ]
    }
   ],
   "source": [
    "#Q16: How do you perform matrix multiplication?\n",
    "\n",
    "matrix1 = np.array([[1, 2], [3, 4]])\n",
    "matrix2 = np.array([[5, 6], [7, 8]])\n",
    "result = np.dot(matrix1, matrix2)\n",
    "# or\n",
    "result = matrix1 @ matrix2\n",
    "print(result)\n"
   ]
  },
  {
   "cell_type": "code",
   "execution_count": 17,
   "id": "0e014f51",
   "metadata": {},
   "outputs": [
    {
     "name": "stdout",
     "output_type": "stream",
     "text": [
      "(2, 3)\n"
     ]
    }
   ],
   "source": [
    "#Q17: How do you get the shape of an array? \n",
    "\n",
    "arr = np.array([[1, 2, 3], [4, 5, 6]])\n",
    "print(arr.shape)\n"
   ]
  },
  {
   "cell_type": "code",
   "execution_count": 18,
   "id": "de3e0405",
   "metadata": {},
   "outputs": [
    {
     "name": "stdout",
     "output_type": "stream",
     "text": [
      "3\n",
      "[2 3 4]\n"
     ]
    }
   ],
   "source": [
    "#Q18: How do you index and slice a Numpy array?\n",
    "\n",
    "arr = np.array([1, 2, 3, 4, 5])\n",
    "print(arr[2])  # Output: 3\n",
    "print(arr[1:4])  # Output: [2 3 4]\n"
   ]
  },
  {
   "cell_type": "code",
   "execution_count": 19,
   "id": "b119eca3",
   "metadata": {},
   "outputs": [
    {
     "name": "stdout",
     "output_type": "stream",
     "text": [
      "[0.   0.25 0.5  0.75 1.  ]\n"
     ]
    }
   ],
   "source": [
    "#Q19: How do you generate an array of evenly spaced values?\n",
    "\n",
    "arr = np.linspace(0, 1, 5)\n",
    "print(arr)\n"
   ]
  },
  {
   "cell_type": "code",
   "execution_count": 20,
   "id": "d5872a3a",
   "metadata": {},
   "outputs": [
    {
     "name": "stdout",
     "output_type": "stream",
     "text": [
      "Sum along columns: [12 15 18]\n",
      "Sum along rows: [ 6 15 24]\n",
      "Mean along columns: [4. 5. 6.]\n",
      "Standard deviation along columns: [2.44948974 2.44948974 2.44948974]\n"
     ]
    }
   ],
   "source": [
    "#Q20: How do you find the sum, mean, and standard deviation along a specific axis?\n",
    "\n",
    "matrix = np.array([[1, 2, 3], [4, 5, 6], [7, 8, 9]])\n",
    "sum_along_axis0 = np.sum(matrix, axis=0)  # Sum along the columns\n",
    "sum_along_axis1 = np.sum(matrix, axis=1)  # Sum along the rows\n",
    "mean_along_axis0 = np.mean(matrix, axis=0)\n",
    "std_along_axis0 = np.std(matrix, axis=0)\n",
    "\n",
    "print(\"Sum along columns:\", sum_along_axis0)\n",
    "print(\"Sum along rows:\", sum_along_axis1)\n",
    "print(\"Mean along columns:\", mean_along_axis0)\n",
    "print(\"Standard deviation along columns:\", std_along_axis0)\n"
   ]
  },
  {
   "cell_type": "code",
   "execution_count": null,
   "id": "1a05a8d3",
   "metadata": {},
   "outputs": [],
   "source": []
  }
 ],
 "metadata": {
  "kernelspec": {
   "display_name": "Python 3 (ipykernel)",
   "language": "python",
   "name": "python3"
  },
  "language_info": {
   "codemirror_mode": {
    "name": "ipython",
    "version": 3
   },
   "file_extension": ".py",
   "mimetype": "text/x-python",
   "name": "python",
   "nbconvert_exporter": "python",
   "pygments_lexer": "ipython3",
   "version": "3.11.5"
  }
 },
 "nbformat": 4,
 "nbformat_minor": 5
}
