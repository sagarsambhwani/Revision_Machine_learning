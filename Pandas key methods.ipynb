{
 "cells": [
  {
   "cell_type": "code",
   "execution_count": 1,
   "id": "b8565099",
   "metadata": {},
   "outputs": [],
   "source": [
    "#Q1: What is pandas? \n",
    "#A1: Pandas is a powerful open-source data analysis and manipulation library for Python. It provides data structures like Series\n",
    "#    and DataFrame, which make data handling and processing efficient and intuitive."
   ]
  },
  {
   "cell_type": "code",
   "execution_count": 2,
   "id": "263c3d29",
   "metadata": {},
   "outputs": [
    {
     "name": "stdout",
     "output_type": "stream",
     "text": [
      "      Name  Age         City\n",
      "0    Alice   25     New York\n",
      "1      Bob   30  Los Angeles\n",
      "2  Charlie   35      Chicago\n"
     ]
    }
   ],
   "source": [
    "#Q2: How do you create a DataFrame in pandas? \n",
    "import pandas as pd\n",
    "\n",
    "data = {'Name': ['Alice', 'Bob', 'Charlie'],\n",
    "        'Age': [25, 30, 35],\n",
    "        'City': ['New York', 'Los Angeles', 'Chicago']}\n",
    "df = pd.DataFrame(data)\n",
    "print(df)\n"
   ]
  },
  {
   "cell_type": "code",
   "execution_count": 4,
   "id": "7dd73c75",
   "metadata": {},
   "outputs": [
    {
     "name": "stdout",
     "output_type": "stream",
     "text": [
      "   Store_ID     Location  Store_Size\n",
      "0         1   Location_1     4984.77\n",
      "1         2   Location_2     4058.58\n",
      "2         3   Location_3     3520.17\n",
      "3         4   Location_4     2019.30\n",
      "4         5   Location_5     4935.58\n",
      "5         6   Location_6     1881.14\n",
      "6         7   Location_7     2934.98\n",
      "7         8   Location_8     1602.91\n",
      "8         9   Location_9     3015.70\n",
      "9        10  Location_10     1695.53\n"
     ]
    }
   ],
   "source": [
    "#Q3: How do you read a CSV file into a DataFrame? \n",
    "\n",
    "df = pd.read_csv('D:/store_data.csv')\n",
    "print(df)\n"
   ]
  },
  {
   "cell_type": "code",
   "execution_count": 5,
   "id": "1f0d809f",
   "metadata": {},
   "outputs": [
    {
     "name": "stdout",
     "output_type": "stream",
     "text": [
      "   Store_ID    Location  Store_Size\n",
      "0         1  Location_1     4984.77\n",
      "1         2  Location_2     4058.58\n",
      "2         3  Location_3     3520.17\n",
      "3         4  Location_4     2019.30\n",
      "4         5  Location_5     4935.58\n"
     ]
    }
   ],
   "source": [
    "#Q4: How do you display the first few rows of a DataFrame?\n",
    "\n",
    "print(df.head())\n"
   ]
  },
  {
   "cell_type": "code",
   "execution_count": 6,
   "id": "8cb8f657",
   "metadata": {},
   "outputs": [
    {
     "name": "stdout",
     "output_type": "stream",
     "text": [
      "       Store_ID   Store_Size\n",
      "count  10.00000    10.000000\n",
      "mean    5.50000  3064.866000\n",
      "std     3.02765  1286.963311\n",
      "min     1.00000  1602.910000\n",
      "25%     3.25000  1915.680000\n",
      "50%     5.50000  2975.340000\n",
      "75%     7.75000  3923.977500\n",
      "max    10.00000  4984.770000\n"
     ]
    }
   ],
   "source": [
    "#Q5: How do you get the summary statistics of a DataFrame? \n",
    "\n",
    "print(df.describe())\n",
    "\n"
   ]
  },
  {
   "cell_type": "code",
   "execution_count": 8,
   "id": "2e950df6",
   "metadata": {},
   "outputs": [
    {
     "name": "stdout",
     "output_type": "stream",
     "text": [
      "0     1\n",
      "1     2\n",
      "2     3\n",
      "3     4\n",
      "4     5\n",
      "5     6\n",
      "6     7\n",
      "7     8\n",
      "8     9\n",
      "9    10\n",
      "Name: Store_ID, dtype: int64\n"
     ]
    }
   ],
   "source": [
    "#Q6: How do you select a single column from a DataFrame? \n",
    "\n",
    "StoreID_column = df['Store_ID']\n",
    "print(StoreID_column)\n"
   ]
  },
  {
   "cell_type": "code",
   "execution_count": 9,
   "id": "d4e3da6f",
   "metadata": {},
   "outputs": [
    {
     "name": "stdout",
     "output_type": "stream",
     "text": [
      "   Store_ID     Location  Store_Size\n",
      "5         6   Location_6     1881.14\n",
      "6         7   Location_7     2934.98\n",
      "7         8   Location_8     1602.91\n",
      "8         9   Location_9     3015.70\n",
      "9        10  Location_10     1695.53\n"
     ]
    }
   ],
   "source": [
    "#Q7: How do you filter rows based on a condition? \n",
    "\n",
    "above_5 = df[df['Store_ID'] > 5]\n",
    "print(above_5)\n"
   ]
  },
  {
   "cell_type": "code",
   "execution_count": 10,
   "id": "3e9915ae",
   "metadata": {},
   "outputs": [],
   "source": [
    "#Q8: How do you handle missing data in a DataFrame?\n",
    "\n",
    "# Drop missing values\n",
    "df = df.dropna()\n",
    "\n",
    "# Fill missing values\n",
    "df = df.fillna(0)\n"
   ]
  },
  {
   "cell_type": "code",
   "execution_count": 11,
   "id": "f225c99c",
   "metadata": {},
   "outputs": [
    {
     "name": "stdout",
     "output_type": "stream",
     "text": [
      "  key  value1  value2\n",
      "0   A       1       4\n",
      "1   B       2       5\n"
     ]
    }
   ],
   "source": [
    "#Q9: How do you merge two DataFrames?\n",
    "\n",
    "df1 = pd.DataFrame({'key': ['A', 'B', 'C'], 'value1': [1, 2, 3]})\n",
    "df2 = pd.DataFrame({'key': ['A', 'B', 'D'], 'value2': [4, 5, 6]})\n",
    "merged_df = pd.merge(df1, df2, on='key', how='inner')\n",
    "print(merged_df)\n"
   ]
  },
  {
   "cell_type": "code",
   "execution_count": 13,
   "id": "1f9d6068",
   "metadata": {},
   "outputs": [],
   "source": [
    "#Q10: How do you group data in a DataFrame and compute aggregate statistics?\n",
    "\n",
    "#grouped = df.groupby('example').mean()\n",
    "#print(grouped)\n"
   ]
  },
  {
   "cell_type": "code",
   "execution_count": null,
   "id": "21bb039c",
   "metadata": {},
   "outputs": [],
   "source": []
  }
 ],
 "metadata": {
  "kernelspec": {
   "display_name": "Python 3 (ipykernel)",
   "language": "python",
   "name": "python3"
  },
  "language_info": {
   "codemirror_mode": {
    "name": "ipython",
    "version": 3
   },
   "file_extension": ".py",
   "mimetype": "text/x-python",
   "name": "python",
   "nbconvert_exporter": "python",
   "pygments_lexer": "ipython3",
   "version": "3.11.5"
  }
 },
 "nbformat": 4,
 "nbformat_minor": 5
}
